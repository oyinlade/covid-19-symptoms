{
 "cells": [
  {
   "cell_type": "code",
   "execution_count": 3,
   "metadata": {},
   "outputs": [],
   "source": [
    "import pandas as pd \n",
    "import numpy as np\n",
    "from sklearn.linear_model import LogisticRegression\n",
    "from sklearn.tree import DecisionTreeClassifier\n",
    "from sklearn.model_selection import KFold\n",
    "from sklearn.preprocessing import LabelEncoder\n",
    "from sklearn.model_selection import train_test_split\n",
    "import pickle\n",
    "\n",
    "import warnings\n",
    "warnings.filterwarnings('ignore')"
   ]
  },
  {
   "cell_type": "code",
   "execution_count": 4,
   "metadata": {},
   "outputs": [
    {
     "data": {
      "text/html": [
       "<div>\n",
       "<style scoped>\n",
       "    .dataframe tbody tr th:only-of-type {\n",
       "        vertical-align: middle;\n",
       "    }\n",
       "\n",
       "    .dataframe tbody tr th {\n",
       "        vertical-align: top;\n",
       "    }\n",
       "\n",
       "    .dataframe thead th {\n",
       "        text-align: right;\n",
       "    }\n",
       "</style>\n",
       "<table border=\"1\" class=\"dataframe\">\n",
       "  <thead>\n",
       "    <tr style=\"text-align: right;\">\n",
       "      <th></th>\n",
       "      <th>test_date</th>\n",
       "      <th>cough</th>\n",
       "      <th>fever</th>\n",
       "      <th>sore_throat</th>\n",
       "      <th>shortness_of_breath</th>\n",
       "      <th>head_ache</th>\n",
       "      <th>corona_result</th>\n",
       "      <th>age_60_and_above</th>\n",
       "      <th>gender</th>\n",
       "      <th>test_indication</th>\n",
       "    </tr>\n",
       "  </thead>\n",
       "  <tbody>\n",
       "    <tr>\n",
       "      <th>0</th>\n",
       "      <td>2020-11-12</td>\n",
       "      <td>0</td>\n",
       "      <td>0</td>\n",
       "      <td>0</td>\n",
       "      <td>0</td>\n",
       "      <td>0</td>\n",
       "      <td>negative</td>\n",
       "      <td>No</td>\n",
       "      <td>male</td>\n",
       "      <td>Other</td>\n",
       "    </tr>\n",
       "    <tr>\n",
       "      <th>1</th>\n",
       "      <td>2020-11-12</td>\n",
       "      <td>0</td>\n",
       "      <td>1</td>\n",
       "      <td>0</td>\n",
       "      <td>0</td>\n",
       "      <td>0</td>\n",
       "      <td>negative</td>\n",
       "      <td>No</td>\n",
       "      <td>male</td>\n",
       "      <td>Other</td>\n",
       "    </tr>\n",
       "    <tr>\n",
       "      <th>2</th>\n",
       "      <td>2020-11-12</td>\n",
       "      <td>0</td>\n",
       "      <td>0</td>\n",
       "      <td>0</td>\n",
       "      <td>0</td>\n",
       "      <td>0</td>\n",
       "      <td>negative</td>\n",
       "      <td>Yes</td>\n",
       "      <td>female</td>\n",
       "      <td>Other</td>\n",
       "    </tr>\n",
       "    <tr>\n",
       "      <th>3</th>\n",
       "      <td>2020-11-12</td>\n",
       "      <td>0</td>\n",
       "      <td>0</td>\n",
       "      <td>0</td>\n",
       "      <td>0</td>\n",
       "      <td>0</td>\n",
       "      <td>negative</td>\n",
       "      <td>No</td>\n",
       "      <td>male</td>\n",
       "      <td>Other</td>\n",
       "    </tr>\n",
       "    <tr>\n",
       "      <th>4</th>\n",
       "      <td>2020-11-12</td>\n",
       "      <td>0</td>\n",
       "      <td>1</td>\n",
       "      <td>0</td>\n",
       "      <td>0</td>\n",
       "      <td>0</td>\n",
       "      <td>negative</td>\n",
       "      <td>No</td>\n",
       "      <td>male</td>\n",
       "      <td>Contact with confirmed</td>\n",
       "    </tr>\n",
       "  </tbody>\n",
       "</table>\n",
       "</div>"
      ],
      "text/plain": [
       "    test_date  cough  fever  sore_throat  shortness_of_breath  head_ache  \\\n",
       "0  2020-11-12      0      0            0                    0          0   \n",
       "1  2020-11-12      0      1            0                    0          0   \n",
       "2  2020-11-12      0      0            0                    0          0   \n",
       "3  2020-11-12      0      0            0                    0          0   \n",
       "4  2020-11-12      0      1            0                    0          0   \n",
       "\n",
       "  corona_result age_60_and_above  gender         test_indication  \n",
       "0      negative               No    male                   Other  \n",
       "1      negative               No    male                   Other  \n",
       "2      negative              Yes  female                   Other  \n",
       "3      negative               No    male                   Other  \n",
       "4      negative               No    male  Contact with confirmed  "
      ]
     },
     "execution_count": 4,
     "metadata": {},
     "output_type": "execute_result"
    }
   ],
   "source": [
    "data = pd.read_csv('data1.csv')\n",
    "data.head()"
   ]
  },
  {
   "cell_type": "code",
   "execution_count": 3,
   "metadata": {},
   "outputs": [
    {
     "data": {
      "text/plain": [
       "<bound method NDFrame._add_numeric_operations.<locals>.sum of          test_date  cough  fever  sore_throat  shortness_of_breath  head_ache  \\\n",
       "0            False  False  False        False                False      False   \n",
       "1            False  False  False        False                False      False   \n",
       "2            False  False  False        False                False      False   \n",
       "3            False  False  False        False                False      False   \n",
       "4            False  False  False        False                False      False   \n",
       "...            ...    ...    ...          ...                  ...        ...   \n",
       "2742591      False  False  False        False                False      False   \n",
       "2742592      False  False  False        False                False      False   \n",
       "2742593      False  False  False        False                False      False   \n",
       "2742594      False  False  False        False                False      False   \n",
       "2742595      False  False  False        False                False      False   \n",
       "\n",
       "         corona_result  age_60_and_above  gender  test_indication  \n",
       "0                False             False   False            False  \n",
       "1                False             False   False            False  \n",
       "2                False             False   False            False  \n",
       "3                False             False   False            False  \n",
       "4                False             False   False            False  \n",
       "...                ...               ...     ...              ...  \n",
       "2742591          False              True   False            False  \n",
       "2742592          False              True   False            False  \n",
       "2742593          False              True   False            False  \n",
       "2742594          False              True   False            False  \n",
       "2742595          False              True   False            False  \n",
       "\n",
       "[2742596 rows x 10 columns]>"
      ]
     },
     "execution_count": 3,
     "metadata": {},
     "output_type": "execute_result"
    }
   ],
   "source": [
    "data.isnull().sum"
   ]
  },
  {
   "cell_type": "code",
   "execution_count": 4,
   "metadata": {},
   "outputs": [],
   "source": [
    "from imblearn.over_sampling import SMOTE"
   ]
  },
  {
   "cell_type": "code",
   "execution_count": null,
   "metadata": {},
   "outputs": [],
   "source": []
  },
  {
   "cell_type": "code",
   "execution_count": 5,
   "metadata": {},
   "outputs": [
    {
     "data": {
      "text/plain": [
       "<bound method NDFrame._add_numeric_operations.<locals>.sum of          test_date  cough  fever  sore_throat  shortness_of_breath  head_ache  \\\n",
       "0            False  False  False        False                False      False   \n",
       "1            False  False  False        False                False      False   \n",
       "2            False  False  False        False                False      False   \n",
       "3            False  False  False        False                False      False   \n",
       "4            False  False  False        False                False      False   \n",
       "...            ...    ...    ...          ...                  ...        ...   \n",
       "2731639      False  False  False        False                False      False   \n",
       "2731640      False  False  False        False                False      False   \n",
       "2731643      False  False  False        False                False      False   \n",
       "2731644      False  False  False        False                False      False   \n",
       "2731647      False  False  False        False                False      False   \n",
       "\n",
       "         corona_result  age_60_and_above  gender  test_indication  \n",
       "0                False             False   False            False  \n",
       "1                False             False   False            False  \n",
       "2                False             False   False            False  \n",
       "3                False             False   False            False  \n",
       "4                False             False   False            False  \n",
       "...                ...               ...     ...              ...  \n",
       "2731639          False             False   False            False  \n",
       "2731640          False             False   False            False  \n",
       "2731643          False             False   False            False  \n",
       "2731644          False             False   False            False  \n",
       "2731647          False             False   False            False  \n",
       "\n",
       "[2186227 rows x 10 columns]>"
      ]
     },
     "execution_count": 5,
     "metadata": {},
     "output_type": "execute_result"
    }
   ],
   "source": [
    "data = data.dropna()\n",
    "data.isnull().sum"
   ]
  },
  {
   "cell_type": "code",
   "execution_count": 6,
   "metadata": {},
   "outputs": [],
   "source": [
    "data.drop(['test_date', 'gender'], axis = True, inplace = True)\n",
    "df = data.copy()\n",
    "target = 'corona_result'\n",
    "encode = ['age_60_and_above','test_indication']\n",
    "\n",
    "for col in encode:\n",
    "    dummy = pd.get_dummies(df[col], prefix=col)\n",
    "    df = pd.concat([df,dummy], axis=1)\n",
    "    del df[col]\n",
    "\n",
    "target_mapper = {'negative':0,'positive':1, 'other': 2}\n",
    "def target_encode(val):\n",
    "    return target_mapper[val]\n",
    "\n",
    "df['corona_result'] = df['corona_result'].apply(target_encode)\n",
    "\n",
    "# Separating X and y\n",
    "X = df.drop('corona_result', axis=1)\n",
    "y = df['corona_result']\n"
   ]
  },
  {
   "cell_type": "code",
   "execution_count": 7,
   "metadata": {},
   "outputs": [],
   "source": [
    "from sklearn.feature_selection import SelectKBest\n",
    "from sklearn.feature_selection import chi2"
   ]
  },
  {
   "cell_type": "code",
   "execution_count": 8,
   "metadata": {},
   "outputs": [
    {
     "data": {
      "text/plain": [
       "['fever', 'head_ache', 'test_indication_Contact with confirmed']"
      ]
     },
     "execution_count": 8,
     "metadata": {},
     "output_type": "execute_result"
    }
   ],
   "source": [
    "chi_selector = SelectKBest(score_func=chi2, k=3)\n",
    "features_for_training = chi_selector.fit_transform(X,y)\n",
    "\n",
    "chi_selector = SelectKBest(score_func=chi2, k=3)\n",
    "features_for_training = chi_selector.fit_transform(X,y)\n",
    "X.columns[chi_selector.get_support(indices=True)]\n",
    "features = X.columns[chi_selector.get_support(indices=True)].tolist()\n",
    "features"
   ]
  },
  {
   "cell_type": "code",
   "execution_count": 9,
   "metadata": {},
   "outputs": [
    {
     "name": "stdout",
     "output_type": "stream",
     "text": [
      "Accuracy Score = 0.9022655438814763\n"
     ]
    },
    {
     "data": {
      "text/plain": [
       "array([[366862,  21307,      0],\n",
       "       [ 14481,  27650,      0],\n",
       "       [  5805,   1141,      0]], dtype=int64)"
      ]
     },
     "execution_count": 9,
     "metadata": {},
     "output_type": "execute_result"
    }
   ],
   "source": [
    "X_train, X_test, y_train, y_test = train_test_split(X,y, test_size=0.2, random_state=45)\n",
    "from sklearn.naive_bayes import GaussianNB\n",
    "from sklearn.metrics import (accuracy_score, confusion_matrix, recall_score, precision_score)\n",
    "# Create the Model Object\n",
    "nb_classifier = GaussianNB()\n",
    "\n",
    "# Fit Model to Data\n",
    "nb_classifier.fit(X_train , y_train)\n",
    "\n",
    "y_preds = nb_classifier.predict(X_test)\n",
    "acc_score = accuracy_score(y_test, y_preds)\n",
    "print(\"Accuracy Score = {}\".format(acc_score))\n",
    "\n",
    "confusion_matrix(y_test, y_preds)"
   ]
  },
  {
   "cell_type": "code",
   "execution_count": 10,
   "metadata": {},
   "outputs": [],
   "source": [
    "import pickle\n",
    "filename = \"final_model.pkl\"\n",
    "model = pickle.dump(nb_classifier, open(filename, \"wb\"))"
   ]
  },
  {
   "cell_type": "code",
   "execution_count": 11,
   "metadata": {},
   "outputs": [],
   "source": [
    "from sklearn.feature_selection import SelectKBest\n",
    "from sklearn.feature_selection import chi2"
   ]
  },
  {
   "cell_type": "code",
   "execution_count": 12,
   "metadata": {},
   "outputs": [
    {
     "data": {
      "text/plain": [
       "LogisticRegression()"
      ]
     },
     "execution_count": 12,
     "metadata": {},
     "output_type": "execute_result"
    }
   ],
   "source": [
    "from sklearn.linear_model import LogisticRegression\n",
    "from sklearn.model_selection import train_test_split \n",
    "\n",
    "X_train, X_test, y_train, y_test = train_test_split(X, y, test_size = 0.2, random_state = 0)\n",
    "\n",
    "clf = LogisticRegression()\n",
    "clf.fit(X_train, y_train)"
   ]
  },
  {
   "cell_type": "code",
   "execution_count": 13,
   "metadata": {},
   "outputs": [
    {
     "name": "stdout",
     "output_type": "stream",
     "text": [
      "Mean squared error: 0.14\n",
      "Root Mean Squared Error: 0.3739840347113003\n"
     ]
    }
   ],
   "source": [
    "y_pred = clf.predict(X_test)\n",
    "from sklearn import metrics\n",
    "print(\"Mean squared error: %.2f\" % np.mean((clf.predict(X_train) - y_train) ** 2))\n",
    "print('Root Mean Squared Error:', np.sqrt(metrics.mean_squared_error(y_test, y_pred))) "
   ]
  },
  {
   "cell_type": "code",
   "execution_count": 14,
   "metadata": {},
   "outputs": [],
   "source": [
    "import pickle\n",
    "filename = \"rb_model.pkl\"\n",
    "model = pickle.dump(nb_classifier, open(filename, \"wb\"))"
   ]
  },
  {
   "cell_type": "code",
   "execution_count": 15,
   "metadata": {},
   "outputs": [
    {
     "name": "stdout",
     "output_type": "stream",
     "text": [
      "Accuracy Score = 0.9065834793228525\n"
     ]
    },
    {
     "data": {
      "text/plain": [
       "array([[369325,  19230,      3],\n",
       "       [ 14747,  27075,      0],\n",
       "       [  5801,   1065,      0]], dtype=int64)"
      ]
     },
     "execution_count": 15,
     "metadata": {},
     "output_type": "execute_result"
    }
   ],
   "source": [
    "from imblearn.ensemble import BalancedBaggingClassifier\n",
    "from sklearn.tree import DecisionTreeClassifier\n",
    "\n",
    "#Create an object of the classifier.\n",
    "bbc = BalancedBaggingClassifier(base_estimator=DecisionTreeClassifier(),\n",
    "                                sampling_strategy='auto',\n",
    "                                replacement=False,\n",
    "                                random_state=0)\n",
    "\n",
    "y_train = df['corona_result']\n",
    "X_train = df.drop(['corona_result'], axis=1, inplace=False)\n",
    "\n",
    "#Train the classifier.\n",
    "bbc.fit(X_train, y_train)\n",
    "preds = bbc.predict(X_test)\n",
    "from sklearn.metrics import (accuracy_score, confusion_matrix, recall_score, precision_score)\n",
    "acc_score = accuracy_score(y_test, preds)\n",
    "print(\"Accuracy Score = {}\".format(acc_score))\n",
    "\n",
    "confusion_matrix(y_test, preds)\n"
   ]
  },
  {
   "cell_type": "code",
   "execution_count": 16,
   "metadata": {},
   "outputs": [],
   "source": [
    "import pickle\n",
    "filename = \"dc_model.pkl\"\n",
    "model = pickle.dump(nb_classifier, open(filename, \"wb\"))"
   ]
  },
  {
   "cell_type": "code",
   "execution_count": 17,
   "metadata": {},
   "outputs": [
    {
     "name": "stdout",
     "output_type": "stream",
     "text": [
      "Accuracy Score = 0.9022655438814763\n"
     ]
    },
    {
     "data": {
      "text/plain": [
       "array([[366862,  21307,      0],\n",
       "       [ 14481,  27650,      0],\n",
       "       [  5805,   1141,      0]], dtype=int64)"
      ]
     },
     "execution_count": 17,
     "metadata": {},
     "output_type": "execute_result"
    }
   ],
   "source": [
    "X_train, X_test, y_train, y_test = train_test_split(X,y, test_size=0.2, random_state=45)\n",
    "from sklearn.naive_bayes import GaussianNB\n",
    "from sklearn.metrics import (accuracy_score, confusion_matrix, recall_score, precision_score)\n",
    "# Create the Model Object\n",
    "nb_classifier = GaussianNB()\n",
    "\n",
    "# Fit Model to Data\n",
    "nb_classifier.fit(X_train , y_train)\n",
    "\n",
    "y_preds = nb_classifier.predict(X_test)\n",
    "acc_score = accuracy_score(y_test, y_preds)\n",
    "print(\"Accuracy Score = {}\".format(acc_score))\n",
    "\n",
    "confusion_matrix(y_test, y_preds)"
   ]
  },
  {
   "cell_type": "code",
   "execution_count": 18,
   "metadata": {},
   "outputs": [],
   "source": [
    "X_train, X_test, y_train, y_test = train_test_split(X,y,test_size=0.30)"
   ]
  },
  {
   "cell_type": "code",
   "execution_count": 19,
   "metadata": {},
   "outputs": [],
   "source": [
    "SMOTE = SMOTE()"
   ]
  },
  {
   "cell_type": "code",
   "execution_count": 20,
   "metadata": {},
   "outputs": [
    {
     "name": "stdout",
     "output_type": "stream",
     "text": [
      "After oversampling:  Counter({0: 1360118, 1: 1360118, 2: 1360118})\n"
     ]
    }
   ],
   "source": [
    "from collections import Counter\n",
    "X_train_SMOTE, y_train_SMOTE = SMOTE.fit_resample(X_train, y_train)\n",
    "\n",
    "# summarize class distribution\n",
    "print(\"After oversampling: \",Counter(y_train_SMOTE))\n"
   ]
  },
  {
   "cell_type": "code",
   "execution_count": 23,
   "metadata": {},
   "outputs": [
    {
     "name": "stdout",
     "output_type": "stream",
     "text": [
      "Accuracy Score = 0.9026589151187203\n"
     ]
    },
    {
     "data": {
      "text/plain": [
       "array([[551131,  31762,      0],\n",
       "       [ 21817,  40895,      0],\n",
       "       [  8635,   1629,      0]], dtype=int64)"
      ]
     },
     "execution_count": 23,
     "metadata": {},
     "output_type": "execute_result"
    }
   ],
   "source": [
    " \n",
    "from sklearn.naive_bayes import GaussianNB\n",
    "from sklearn.metrics import (accuracy_score, confusion_matrix, recall_score, precision_score)\n",
    "# Create the Model Object\n",
    "nb_classifier = GaussianNB()\n",
    "\n",
    "# Fit Model to Data\n",
    "nb_SMOTE = nb_classifier.fit(X_train_SMOTE , y_train_SMOTE)\n",
    "\n",
    "y_preds = nb_SMOTE.predict(X_test)\n",
    "acc_score = accuracy_score(y_test, y_preds)\n",
    "print(\"Accuracy Score = {}\".format(acc_score))\n",
    "\n",
    "confusion_matrix(y_test, y_preds)"
   ]
  },
  {
   "cell_type": "code",
   "execution_count": 24,
   "metadata": {},
   "outputs": [],
   "source": [
    "import pickle\n",
    "filename = \"smote.pkl\"\n",
    "model = pickle.dump(nb_SMOTE, open(filename, \"wb\"))"
   ]
  },
  {
   "cell_type": "code",
   "execution_count": null,
   "metadata": {},
   "outputs": [],
   "source": [
    "\n",
    "from sklearn.metrics import (accuracy_score, confusion_matrix, recall_score, precision_score)\n",
    "# Create the Model Object\n",
    "nb_classifier = GaussianNB()\n",
    "\n",
    "# Fit Model to Data\n",
    "nb_SMOTE = nb_classifier.fit(X_train_SMOTE , y_train_SMOTE)\n",
    "\n",
    "y_preds = nb_SMOTE.predict(X_test)\n",
    "acc_score = accuracy_score(y_test, y_preds)\n",
    "print(\"Accuracy Score = {}\".format(acc_score))\n",
    "\n",
    "confusion_matrix(y_test, y_preds)"
   ]
  },
  {
   "cell_type": "code",
   "execution_count": 1,
   "metadata": {},
   "outputs": [
    {
     "ename": "NameError",
     "evalue": "name 'bbc' is not defined",
     "output_type": "error",
     "traceback": [
      "\u001b[1;31m---------------------------------------------------------------------------\u001b[0m",
      "\u001b[1;31mNameError\u001b[0m                                 Traceback (most recent call last)",
      "\u001b[1;32m<ipython-input-1-a8a5223a2b1f>\u001b[0m in \u001b[0;36m<module>\u001b[1;34m\u001b[0m\n\u001b[1;32m----> 1\u001b[1;33m \u001b[0mbbc_SMOTE\u001b[0m \u001b[1;33m=\u001b[0m \u001b[0mbbc\u001b[0m\u001b[1;33m.\u001b[0m\u001b[0mfit\u001b[0m\u001b[1;33m(\u001b[0m\u001b[0mX_train_SMOTE\u001b[0m\u001b[1;33m,\u001b[0m \u001b[0my_train_SMOTE\u001b[0m\u001b[1;33m)\u001b[0m\u001b[1;33m\u001b[0m\u001b[1;33m\u001b[0m\u001b[0m\n\u001b[0m\u001b[0;32m      2\u001b[0m \u001b[0mpreds\u001b[0m \u001b[1;33m=\u001b[0m \u001b[0mbbc_SMOTE\u001b[0m\u001b[1;33m.\u001b[0m\u001b[0mpredict\u001b[0m\u001b[1;33m(\u001b[0m\u001b[0mX_test\u001b[0m\u001b[1;33m)\u001b[0m\u001b[1;33m\u001b[0m\u001b[1;33m\u001b[0m\u001b[0m\n\u001b[0;32m      3\u001b[0m \u001b[1;32mfrom\u001b[0m \u001b[0msklearn\u001b[0m\u001b[1;33m.\u001b[0m\u001b[0mmetrics\u001b[0m \u001b[1;32mimport\u001b[0m \u001b[1;33m(\u001b[0m\u001b[0maccuracy_score\u001b[0m\u001b[1;33m,\u001b[0m \u001b[0mconfusion_matrix\u001b[0m\u001b[1;33m,\u001b[0m \u001b[0mrecall_score\u001b[0m\u001b[1;33m,\u001b[0m \u001b[0mprecision_score\u001b[0m\u001b[1;33m)\u001b[0m\u001b[1;33m\u001b[0m\u001b[1;33m\u001b[0m\u001b[0m\n\u001b[0;32m      4\u001b[0m \u001b[0macc_score\u001b[0m \u001b[1;33m=\u001b[0m \u001b[0maccuracy_score\u001b[0m\u001b[1;33m(\u001b[0m\u001b[0my_test\u001b[0m\u001b[1;33m,\u001b[0m \u001b[0mpreds\u001b[0m\u001b[1;33m)\u001b[0m\u001b[1;33m\u001b[0m\u001b[1;33m\u001b[0m\u001b[0m\n\u001b[0;32m      5\u001b[0m \u001b[0mprint\u001b[0m\u001b[1;33m(\u001b[0m\u001b[1;34m\"Accuracy Score = {}\"\u001b[0m\u001b[1;33m.\u001b[0m\u001b[0mformat\u001b[0m\u001b[1;33m(\u001b[0m\u001b[0macc_score\u001b[0m\u001b[1;33m)\u001b[0m\u001b[1;33m)\u001b[0m\u001b[1;33m\u001b[0m\u001b[1;33m\u001b[0m\u001b[0m\n",
      "\u001b[1;31mNameError\u001b[0m: name 'bbc' is not defined"
     ]
    }
   ],
   "source": [
    "bbc_SMOTE = bbc.fit(X_train_SMOTE, y_train_SMOTE)\n",
    "preds = bbc_SMOTE.predict(X_test)\n",
    "from sklearn.metrics import (accuracy_score, confusion_matrix, recall_score, precision_score)\n",
    "acc_score = accuracy_score(y_test, preds)\n",
    "print(\"Accuracy Score = {}\".format(acc_score))\n",
    "\n",
    "confusion_matrix(y_test, preds)"
   ]
  },
  {
   "cell_type": "code",
   "execution_count": null,
   "metadata": {},
   "outputs": [],
   "source": []
  }
 ],
 "metadata": {
  "kernelspec": {
   "display_name": "Python 3",
   "language": "python",
   "name": "python3"
  },
  "language_info": {
   "codemirror_mode": {
    "name": "ipython",
    "version": 3
   },
   "file_extension": ".py",
   "mimetype": "text/x-python",
   "name": "python",
   "nbconvert_exporter": "python",
   "pygments_lexer": "ipython3",
   "version": "3.8.5"
  }
 },
 "nbformat": 4,
 "nbformat_minor": 4
}
